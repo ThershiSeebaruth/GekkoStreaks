{
 "cells": [
  {
   "cell_type": "code",
   "execution_count": 3,
   "id": "c2b0e7b9-e8da-4994-8a8a-c486571b376d",
   "metadata": {
    "tags": []
   },
   "outputs": [
    {
     "ename": "NameError",
     "evalue": "name 't_values' is not defined",
     "output_type": "error",
     "traceback": [
      "\u001b[0;31m---------------------------------------------------------------------------\u001b[0m",
      "\u001b[0;31mNameError\u001b[0m                                 Traceback (most recent call last)",
      "Cell \u001b[0;32mIn[3], line 4\u001b[0m\n\u001b[1;32m      1\u001b[0m \u001b[38;5;28;01mimport\u001b[39;00m \u001b[38;5;21;01mmatplotlib\u001b[39;00m\u001b[38;5;21;01m.\u001b[39;00m\u001b[38;5;21;01mpyplot\u001b[39;00m \u001b[38;5;28;01mas\u001b[39;00m \u001b[38;5;21;01mplt\u001b[39;00m\n\u001b[1;32m      2\u001b[0m \u001b[38;5;28;01mimport\u001b[39;00m \u001b[38;5;21;01mnumpy\u001b[39;00m \u001b[38;5;28;01mas\u001b[39;00m \u001b[38;5;21;01mnp\u001b[39;00m\n\u001b[0;32m----> 4\u001b[0m plt\u001b[38;5;241m.\u001b[39mplot(\u001b[43mt_values\u001b[49m,x_values)\n\u001b[1;32m      5\u001b[0m plt\u001b[38;5;241m.\u001b[39mxlabel(\u001b[38;5;124m'\u001b[39m\u001b[38;5;124mtemps (ns)\u001b[39m\u001b[38;5;124m'\u001b[39m)\n\u001b[1;32m      6\u001b[0m plt\u001b[38;5;241m.\u001b[39mylabel(\u001b[38;5;124m'\u001b[39m\u001b[38;5;124mposition (cm)\u001b[39m\u001b[38;5;124m'\u001b[39m)\n",
      "\u001b[0;31mNameError\u001b[0m: name 't_values' is not defined"
     ]
    }
   ],
   "source": [
    "import matplotlib.pyplot as plt\n",
    "import numpy as np\n",
    "\n",
    "plt.plot(t_values,x_values)\n",
    "plt.xlabel('temps (ns)')\n",
    "plt.ylabel('position (cm)')\n",
    "\n",
    "thrshld = np.std(t_values) / np.mean(t_values) \n",
    "print(thrshld)\n",
    "\n",
    "k = 0\n",
    "v_i = 0\n",
    "v_f = 0\n",
    "\n",
    "for i in range(len(t_values)-1) :\n",
    "        \n",
    "    if 100 <= i <= 800 :\n",
    "        if t_values[i+1]/t_values[i] > 1 + thrshld :\n",
    "            k = 0\n",
    "        if 1 - thrshld <= t_values[i+1]/t_values[i] <= 1 + thrshld :\n",
    "            k += 1\n",
    "            if k == 20 :\n",
    "                v_i = i - 19\n",
    "                pass\n",
    "\n",
    "    if i > 800 :\n",
    "        if t_values[i+1]/t_values[i] > 2:\n",
    "            v_f = i \n",
    "            break\n",
    "        \n",
    "print(v_i,v_f)\n",
    "plt.plot(t_values[v_i:v_f],x_values[v_i:v_f])\n",
    "plt.xlabel('temps (ns)')\n",
    "plt.ylabel('position (cm)')"
   ]
  },
  {
   "cell_type": "code",
   "execution_count": null,
   "id": "a52106c7-c3ef-439b-b4d7-b06541f60136",
   "metadata": {},
   "outputs": [],
   "source": []
  }
 ],
 "metadata": {
  "kernelspec": {
   "display_name": "Python 3 (ipykernel)",
   "language": "python",
   "name": "python3"
  },
  "language_info": {
   "codemirror_mode": {
    "name": "ipython",
    "version": 3
   },
   "file_extension": ".py",
   "mimetype": "text/x-python",
   "name": "python",
   "nbconvert_exporter": "python",
   "pygments_lexer": "ipython3",
   "version": "3.9.7"
  }
 },
 "nbformat": 4,
 "nbformat_minor": 5
}
